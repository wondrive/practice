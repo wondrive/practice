{
 "cells": [
  {
   "cell_type": "code",
   "execution_count": 5,
   "metadata": {},
   "outputs": [],
   "source": [
    "import numpy as np\n",
    "\n",
    "TP = np.array([0, 1, 2, 3, 4, 4, 5, 5, 5, 6, 6])\n",
    "FN = np.array([6, 5, 4, 3, 2, 2, 1, 1, 1, 0, 0])\n",
    "FP = np.array([0, 0, 0, 0, 0, 1, 1, 2, 3, 3, 4])\n",
    "TN = np.array([4, 4, 4, 4, 4, 3, 3, 2, 1, 1, 0])"
   ]
  },
  {
   "cell_type": "code",
   "execution_count": 6,
   "metadata": {},
   "outputs": [],
   "source": [
    "TPR = TP / (TP+FN)\n",
    "FPR = FP / (TN+FP)"
   ]
  },
  {
   "cell_type": "code",
   "execution_count": 8,
   "metadata": {},
   "outputs": [],
   "source": [
    "import matplotlib.pyplot as plt\n",
    "\n",
    "def plot_roc_curve(FPR, TPR):\n",
    "    plt.plot(FPR, TPR, color='red', label='ROC')\n",
    "    plt.plot([0, 1], [0, 1], color='black', linestyle='--')\n",
    "    plt.xlabel('FPR')\n",
    "    plt.ylabel('TPR')\n",
    "    plt.title('ROC curve')\n",
    "    plt.legend()\n",
    "    plt.show()"
   ]
  },
  {
   "cell_type": "code",
   "execution_count": 9,
   "metadata": {},
   "outputs": [
    {
     "data": {
      "image/png": "[encoded data removed]",
      "text/plain": [
       "<Figure size 432x288 with 1 Axes>"
      ]
     },
     "metadata": {
      "needs_background": "light"
     },
     "output_type": "display_data"
    }
   ],
   "source": [
    "plot_roc_curve(FPR, TPR)"
   ]
  },
  {
   "cell_type": "code",
   "execution_count": 10,
   "metadata": {},
   "outputs": [
    {
     "data": {
      "text/plain": [
       "0.8333333333333333"
      ]
     },
     "execution_count": 10,
     "metadata": {},
     "output_type": "execute_result"
    }
   ],
   "source": [
    "target = [1, 1, 1, 1, 0, 1, 0, 0, 1, 0]\n",
    "pred = [1, 1, 1, 1, 0, 0, 0, 0, 0, 0]\n",
    "\n",
    "from sklearn.metrics import roc_auc_score\n",
    "roc_auc_score(target, pred)"
   ]
  }
 ],
 "metadata": {
  "kernelspec": {
   "display_name": "Python 3.9.12 ('base')",
   "language": "python",
   "name": "python3"
  },
  "language_info": {
   "codemirror_mode": {
    "name": "ipython",
    "version": 3
   },
   "file_extension": ".py",
   "mimetype": "text/x-python",
   "name": "python",
   "nbconvert_exporter": "python",
   "pygments_lexer": "ipython3",
   "version": "3.9.12"
  },
  "orig_nbformat": 4,
  "vscode": {
   "interpreter": {
    "hash": "5814f901a67ca83decd42b0258df0310ad45aa124fa66670c5a18e3b4b42a147"
   }
  }
 },
 "nbformat": 4,
 "nbformat_minor": 2
}
